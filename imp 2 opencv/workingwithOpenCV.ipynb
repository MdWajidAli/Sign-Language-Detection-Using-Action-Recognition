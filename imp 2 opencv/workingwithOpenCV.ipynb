{
 "cells": [
  {
   "cell_type": "code",
   "execution_count": 1,
   "id": "1afd8831",
   "metadata": {},
   "outputs": [
    {
     "name": "stdout",
     "output_type": "stream",
     "text": [
      "Collecting opencv-python\n",
      "  Using cached opencv_python-4.7.0.72-cp37-abi3-win_amd64.whl (38.2 MB)\n",
      "Requirement already satisfied: numpy>=1.17.0 in c:\\users\\ali\\appdata\\local\\programs\\python\\python38\\lib\\site-packages (from opencv-python) (1.24.2)\n",
      "Installing collected packages: opencv-python\n",
      "Successfully installed opencv-python-4.7.0.72\n"
     ]
    }
   ],
   "source": [
    "!pip install opencv-python"
   ]
  },
  {
   "cell_type": "code",
   "execution_count": 2,
   "id": "a8c1d228",
   "metadata": {},
   "outputs": [
    {
     "name": "stdout",
     "output_type": "stream",
     "text": [
      "Package                  Version\n",
      "------------------------ --------\n",
      "absl-py                  1.4.0\n",
      "anyio                    3.6.2\n",
      "argon2-cffi              21.3.0\n",
      "argon2-cffi-bindings     21.2.0\n",
      "arrow                    1.2.3\n",
      "asttokens                2.2.1\n",
      "attrs                    23.1.0\n",
      "autopy                   4.0.0\n",
      "backcall                 0.2.0\n",
      "beautifulsoup4           4.12.2\n",
      "bleach                   6.0.0\n",
      "cffi                     1.15.1\n",
      "colorama                 0.4.6\n",
      "comm                     0.1.3\n",
      "contourpy                1.0.7\n",
      "cycler                   0.11.0\n",
      "debugpy                  1.6.7\n",
      "decorator                5.1.1\n",
      "defusedxml               0.7.1\n",
      "executing                1.2.0\n",
      "fastjsonschema           2.16.3\n",
      "flatbuffers              23.3.3\n",
      "fonttools                4.39.3\n",
      "fqdn                     1.5.1\n",
      "idna                     3.4\n",
      "importlib-metadata       6.4.1\n",
      "importlib-resources      5.12.0\n",
      "ipykernel                6.22.0\n",
      "ipython                  8.12.0\n",
      "ipython-genutils         0.2.0\n",
      "ipywidgets               8.0.6\n",
      "isoduration              20.11.0\n",
      "jedi                     0.18.2\n",
      "Jinja2                   3.1.2\n",
      "jsonpointer              2.3\n",
      "jsonschema               4.17.3\n",
      "jupyter                  1.0.0\n",
      "jupyter_client           8.2.0\n",
      "jupyter-console          6.6.3\n",
      "jupyter_core             5.3.0\n",
      "jupyter-events           0.6.3\n",
      "jupyter_server           2.5.0\n",
      "jupyter_server_terminals 0.4.4\n",
      "jupyterlab-pygments      0.2.2\n",
      "jupyterlab-widgets       3.0.7\n",
      "kiwisolver               1.4.4\n",
      "MarkupSafe               2.1.2\n",
      "matplotlib               3.7.1\n",
      "matplotlib-inline        0.1.6\n",
      "mediapipe                0.9.3.0\n",
      "mistune                  2.0.5\n",
      "nbclassic                0.5.5\n",
      "nbclient                 0.7.3\n",
      "nbconvert                7.3.1\n",
      "nbformat                 5.8.0\n",
      "nest-asyncio             1.5.6\n",
      "notebook                 6.5.4\n",
      "notebook_shim            0.2.2\n",
      "numpy                    1.24.2\n",
      "opencv-contrib-python    4.7.0.72\n",
      "opencv-python            4.7.0.72\n",
      "packaging                23.1\n",
      "pandocfilters            1.5.0\n",
      "parso                    0.8.3\n",
      "pickleshare              0.7.5\n",
      "Pillow                   9.5.0\n",
      "pip                      23.1\n",
      "pkgutil_resolve_name     1.3.10\n",
      "platformdirs             3.2.0\n",
      "prometheus-client        0.16.0\n",
      "prompt-toolkit           3.0.38\n",
      "protobuf                 3.20.3\n",
      "psutil                   5.9.5\n",
      "pure-eval                0.2.2\n",
      "pycparser                2.21\n",
      "Pygments                 2.15.0\n",
      "pyparsing                3.0.9\n",
      "pyrsistent               0.19.3\n",
      "python-dateutil          2.8.2\n",
      "python-json-logger       2.0.7\n",
      "pywin32                  306\n",
      "pywinpty                 2.0.10\n",
      "PyYAML                   6.0\n",
      "pyzmq                    25.0.2\n",
      "qtconsole                5.4.2\n",
      "QtPy                     2.3.1\n",
      "rfc3339-validator        0.1.4\n",
      "rfc3986-validator        0.1.1\n",
      "Send2Trash               1.8.0\n",
      "setuptools               56.0.0\n",
      "six                      1.16.0\n",
      "sniffio                  1.3.0\n",
      "sounddevice              0.4.6\n",
      "soupsieve                2.4.1\n",
      "stack-data               0.6.2\n",
      "terminado                0.17.1\n",
      "tinycss2                 1.2.1\n",
      "tornado                  6.3\n",
      "traitlets                5.9.0\n",
      "typing_extensions        4.5.0\n",
      "uri-template             1.2.0\n",
      "wcwidth                  0.2.6\n",
      "webcolors                1.13\n",
      "webencodings             0.5.1\n",
      "websocket-client         1.5.1\n",
      "widgetsnbextension       4.0.7\n",
      "zipp                     3.15.0\n"
     ]
    }
   ],
   "source": [
    "!pip list"
   ]
  },
  {
   "cell_type": "code",
   "execution_count": 3,
   "id": "4cfe17c2",
   "metadata": {},
   "outputs": [],
   "source": [
    "import cv2"
   ]
  },
  {
   "cell_type": "markdown",
   "id": "14bc9aa7",
   "metadata": {},
   "source": [
    "# Test Samples"
   ]
  },
  {
   "cell_type": "code",
   "execution_count": 4,
   "id": "30585162",
   "metadata": {},
   "outputs": [
    {
     "name": "stderr",
     "output_type": "stream",
     "text": [
      "The system cannot find the path specified.\n",
      "python: can't open file 'hist.py': [Errno 2] No such file or directory\n"
     ]
    }
   ],
   "source": [
    "!cd opencv-4.7.0\\opencv-4.7.0\\samples\\python & python hist.py"
   ]
  },
  {
   "cell_type": "code",
   "execution_count": null,
   "id": "74bcbcd3",
   "metadata": {},
   "outputs": [],
   "source": [
    "# Histogram Sample"
   ]
  },
  {
   "cell_type": "code",
   "execution_count": 5,
   "id": "9ff6fce4",
   "metadata": {},
   "outputs": [
    {
     "name": "stdout",
     "output_type": "stream",
     "text": [
      " This is a sample for histogram plotting for RGB images and grayscale images for better understanding of colour distribution\n",
      "\n",
      "Benefit : Learn how to draw histogram of images\n",
      "          Get familier with cv.calcHist, cv.equalizeHist,cv.normalize and some drawing functions\n",
      "\n",
      "Level : Beginner or Intermediate\n",
      "\n",
      "Functions : 1) hist_curve : returns histogram of an image drawn as curves\n",
      "            2) hist_lines : return histogram of an image drawn as bins ( only for grayscale images )\n",
      "\n",
      "Usage : python hist.py <image_file>\n",
      "\n",
      "Abid Rahman 3/14/12 debug Gary Bradski\n",
      "\n",
      "usage : python hist.py <image_file>\n",
      " Histogram plotting \n",
      "\n",
      "    Keymap :\n",
      "\n",
      "    a - show histogram for color image in curve mode \n",
      "\n",
      "    b - show histogram in bin mode \n",
      "\n",
      "    c - show equalized histogram (always in bin mode) \n",
      "\n",
      "    d - show histogram for gray image in curve mode \n",
      "\n",
      "    e - show histogram for a normalized image in curve mode \n",
      "\n",
      "    Esc - exit \n",
      "\n",
      "    \n",
      "a\n",
      "b\n",
      "hist_lines applicable only for grayscale images\n",
      "c\n",
      "d\n",
      "e\n",
      "ESC\n",
      "Done\n"
     ]
    },
    {
     "name": "stderr",
     "output_type": "stream",
     "text": [
      "[ WARN:0@0.007] global samples.cpp:61 cv::samples::findFile cv::samples::findFile('lena.jpg') => 'C:\\ali clg\\final year project\\opencv-4.7.0\\opencv-4.7.0\\samples\\python/../..\\samples/data\\lena.jpg'\n"
     ]
    }
   ],
   "source": [
    "!cd C:\\ali clg\\final year project\\opencv-4.7.0\\opencv-4.7.0\\samples\\python & python hist.py"
   ]
  },
  {
   "cell_type": "code",
   "execution_count": 7,
   "id": "754cb429",
   "metadata": {},
   "outputs": [],
   "source": [
    "# Optical flow Sample"
   ]
  },
  {
   "cell_type": "code",
   "execution_count": 6,
   "id": "510723d4",
   "metadata": {},
   "outputs": [
    {
     "name": "stdout",
     "output_type": "stream",
     "text": [
      "\n",
      "example to show optical flow\n",
      "\n",
      "USAGE: opt_flow.py [<video_source>]\n",
      "\n",
      "Keys:\n",
      " 1 - toggle HSV flow visualization\n",
      " 2 - toggle glitch\n",
      "\n",
      "Keys:\n",
      "    ESC    - exit\n",
      "\n",
      "Done\n"
     ]
    }
   ],
   "source": [
    "!cd C:\\ali clg\\final year project\\opencv-4.7.0\\opencv-4.7.0\\samples\\python & python opt_flow.py 0"
   ]
  },
  {
   "cell_type": "code",
   "execution_count": null,
   "id": "3b3875f7",
   "metadata": {},
   "outputs": [],
   "source": []
  }
 ],
 "metadata": {
  "kernelspec": {
   "display_name": "Python 3 (ipykernel)",
   "language": "python",
   "name": "python3"
  },
  "language_info": {
   "codemirror_mode": {
    "name": "ipython",
    "version": 3
   },
   "file_extension": ".py",
   "mimetype": "text/x-python",
   "name": "python",
   "nbconvert_exporter": "python",
   "pygments_lexer": "ipython3",
   "version": "3.8.10"
  }
 },
 "nbformat": 4,
 "nbformat_minor": 5
}
